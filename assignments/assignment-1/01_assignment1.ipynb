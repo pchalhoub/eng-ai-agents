{
  "nbformat": 4,
  "nbformat_minor": 0,
  "metadata": {
    "colab": {
      "provenance": []
    },
    "kernelspec": {
      "name": "python3",
      "display_name": "Python 3"
    },
    "language_info": {
      "name": "python"
    }
  },
  "cells": [
    {
      "cell_type": "markdown",
      "source": [
        "#Information Theory Basics\n",
        "**a.** The traditional equation for conditional entropy is:\n",
        "𝐻(X|Y) = ∑_{y∈Y}∑_{x∈X}p(x,y)log(1/p(X|Y)).\n",
        "\n",
        "Similarly, 𝐻(Y|X) = ∑_{x∈X}∑_{y∈Y}p(y,x)log(1/p(Y|X)).\n",
        "\n",
        "The conditions Y knowing X and X knowing Y are different so the intuition is that these are not equal. Please see before the practical application using the values given.\n",
        "\n",
        "\n"
      ],
      "metadata": {
        "id": "jR5jb5GbrEpM"
      }
    },
    {
      "cell_type": "code",
      "source": [
        "import numpy as np\n",
        "\n",
        "P = np.zeros([4]*2)\n",
        "P[0][0] = 1/8\n",
        "P[0][1] = 1/16\n",
        "P[0][2] = 1/32\n",
        "P[0][3] = 1/32\n",
        "P[1][0] = 1/16\n",
        "P[1][1] = 1/8\n",
        "P[1][2] = 1/32\n",
        "P[1][3] = 1/32\n",
        "P[2][0] = 1/16\n",
        "P[2][1] = 1/16\n",
        "P[2][2] = 1/16\n",
        "P[2][3] = 1/16\n",
        "P[3][0] = 1/4\n",
        "\n",
        "H_conditional_Y_X = 0\n",
        "H_conditional_X_Y = 0\n",
        "\n",
        "PY = np.sum(P, axis=0)\n",
        "PX = np.sum(P, axis=1)\n",
        "\n",
        "for Y in range(4):\n",
        "  if PY[Y] != 0:\n",
        "    for X in range(4):\n",
        "      if P[X][Y] != 0:\n",
        "        H_conditional_X_Y += P[X][Y]*np.log2(1/(P[X][Y]/PY[Y]))\n",
        "\n",
        "for X in range(4):\n",
        "  if PX[X] != 0:\n",
        "    for Y in range(4):\n",
        "      if P[X][Y] != 0:\n",
        "        H_conditional_Y_X += P[X][Y]*np.log2(1/(P[X][Y]/PX[X]))\n",
        "\n",
        "print(H_conditional_X_Y)\n",
        "print(H_conditional_Y_X)"
      ],
      "metadata": {
        "colab": {
          "base_uri": "https://localhost:8080/"
        },
        "id": "1atmuucOwI0T",
        "outputId": "98d5a2fb-aaf5-4dd7-b3f0-3a3e8faea7f0"
      },
      "execution_count": 29,
      "outputs": [
        {
          "output_type": "stream",
          "name": "stdout",
          "text": [
            "1.625\n",
            "1.375\n"
          ]
        }
      ]
    },
    {
      "cell_type": "markdown",
      "source": [
        "This shows that the entropies are not equivalent.\n",
        "\n",
        "**b.** The formula for entropy is given by:\n",
        "\n",
        "𝑯(X) = ∑_{x∈X}p(x)log(1/p(x))\n",
        "\n",
        "This means that H(X) - H(X|Y) = ∑_{x∈X}p(x)log(1/p(x)) - ∑_{y∈Y}∑_{x∈X}p(x,y)log(1/p(X|Y)) and\n",
        "\n",
        "𝐻(Y) - H(Y|X) = ∑_{y∈Y}p(y)log(1/p(y)) - ∑_{y∈Y}∑_{x∈X}p(x,y)log(1/p(Y|X))\n",
        "\n"
      ],
      "metadata": {
        "id": "t84ENpNc9sNV"
      }
    },
    {
      "cell_type": "code",
      "source": [
        "H_X = 0\n",
        "H_Y = 0\n",
        "\n",
        "for X in range(4):\n",
        "  H_X += PX[X]*np.log2(1/PX[X])\n",
        "\n",
        "for Y in range(4):\n",
        "  H_Y += PY[Y]*np.log2(1/PY[Y])\n",
        "\n",
        "\n",
        "print(H_X - H_conditional_X_Y)\n",
        "print(H_Y - H_conditional_Y_X)"
      ],
      "metadata": {
        "colab": {
          "base_uri": "https://localhost:8080/"
        },
        "id": "rY6-Goo69yxP",
        "outputId": "075415ba-4f48-4265-e8aa-1187ba66c25e"
      },
      "execution_count": 30,
      "outputs": [
        {
          "output_type": "stream",
          "name": "stdout",
          "text": [
            "0.375\n",
            "0.375\n"
          ]
        }
      ]
    },
    {
      "cell_type": "markdown",
      "source": [
        "So we can see that these values are in fact equal.\n",
        "\n",
        "**c.** The formula for I(X, Y) is ∑_{x∈X}∑_{y∈Y}p(x,y)log(p(x,y)/(p(x)p(y)))"
      ],
      "metadata": {
        "id": "pj13lOeWAXU5"
      }
    },
    {
      "cell_type": "code",
      "source": [
        "I_X_Y = 0\n",
        "\n",
        "for X in range(4):\n",
        "  for Y in range(4):\n",
        "    if P[X][Y] != 0:\n",
        "      I_X_Y += P[X][Y]*np.log2(P[X][Y]/(PX[X]*PY[Y]))\n",
        "\n",
        "print(I_X_Y)\n"
      ],
      "metadata": {
        "colab": {
          "base_uri": "https://localhost:8080/"
        },
        "id": "m9mLLXQIA_9w",
        "outputId": "437ba69a-ed5f-48ed-b2a6-695f83ddfd2e"
      },
      "execution_count": 31,
      "outputs": [
        {
          "output_type": "stream",
          "name": "stdout",
          "text": [
            "0.375\n"
          ]
        }
      ]
    },
    {
      "cell_type": "markdown",
      "source": [
        "# Maximum Likelihood Parameter Estimation\n",
        "Task 1:"
      ],
      "metadata": {
        "id": "7iNkkLuwNZye"
      }
    },
    {
      "cell_type": "code",
      "source": [
        "import matplotlib.pyplot as plt\n",
        "\n",
        "lamb = 100\n",
        "x = np.linspace(0, 0.1, 100)\n",
        "y = np.zeros([x.shape[0], 1])\n",
        "\n",
        "for i in range(x.shape[0]):\n",
        "  y[i] = lamb*np.exp(-lamb*x[i])\n",
        "\n",
        "plt.xlim(0, 0.1)\n",
        "plt.ylim(0, 100)\n",
        "plt.plot(x, y)\n",
        "plt.xlabel('seconds')\n",
        "plt.ylabel('density')\n",
        "plt.show()"
      ],
      "metadata": {
        "colab": {
          "base_uri": "https://localhost:8080/",
          "height": 464
        },
        "id": "2LFqENDTNjrZ",
        "outputId": "472a1edb-9f8d-4a47-f4ae-00ad9213411c"
      },
      "execution_count": 32,
      "outputs": [
        {
          "output_type": "display_data",
          "data": {
            "text/plain": [
              "<Figure size 640x480 with 1 Axes>"
            ],
            "image/png": "[encoded data removed]"
          },
          "metadata": {}
        }
      ]
    },
    {
      "cell_type": "markdown",
      "source": [
        "Task 2:\n",
        "\n",
        "**a)**"
      ],
      "metadata": {
        "id": "fH3QFm1QcGsO"
      }
    },
    {
      "cell_type": "code",
      "source": [
        "#Let lamb2 be the new parameter we are trying to find\n",
        "#total_likelihood = lamb2**x.shape[0]*np.exp(-lamb2(np.sum(x)))\n",
        "#log_likelihood = np.log(total_likelihood)\n",
        "#NLL = -log_likelihood\n",
        "#gradient_NLL = -x.shape[0]/lamb2 + np.sum(x)\n",
        "\n",
        "lamb2 = 100 #begin by setting large lambda to minimize\n",
        "eta = 0.1 #set a small term for the learning rate\n",
        "lamb2_list = [] #to store iterated values of lamb2 for plotting later\n",
        "\n",
        "for epoch in range(100):\n",
        "  for i in range(x.shape[0]):\n",
        "    gradient_NLL = -x.shape[0]/lamb2 + np.sum(x)\n",
        "    lamb2 -= eta*gradient_NLL\n",
        "    lamb2_list.append(lamb2)\n",
        "\n",
        "print(\"The estimated parameter is:\")\n",
        "print(lamb2)"
      ],
      "metadata": {
        "id": "UeDcQGJXcL-a",
        "colab": {
          "base_uri": "https://localhost:8080/"
        },
        "outputId": "a057cba5-7b63-4cdc-c75a-b6528c129e3e"
      },
      "execution_count": 33,
      "outputs": [
        {
          "output_type": "stream",
          "name": "stdout",
          "text": [
            "The estimated parameter is:\n",
            "20.00000000000007\n"
          ]
        }
      ]
    },
    {
      "cell_type": "markdown",
      "source": [
        "**b)**"
      ],
      "metadata": {
        "id": "Po3n1c35qLgk"
      }
    },
    {
      "cell_type": "code",
      "source": [
        "total_likelihood = np.zeros(len(lamb2_list))\n",
        "lamb2_values = np.array(lamb2_list)\n",
        "\n",
        "for i in range(lamb2_values.shape[0]):\n",
        "  total_likelihood[i] = lamb2_values[i]**x.shape[0]*np.exp(-lamb2_values[i]*np.sum(x))\n",
        "\n",
        "plt.plot(lamb2_values, total_likelihood)\n",
        "plt.xlabel('lambda')\n",
        "plt.ylabel('likelihood')\n",
        "plt.show()"
      ],
      "metadata": {
        "colab": {
          "base_uri": "https://localhost:8080/",
          "height": 474
        },
        "id": "1qVB8AxGjfU1",
        "outputId": "c45d19fa-bd45-4cc1-ac37-63c8b01950c2"
      },
      "execution_count": 34,
      "outputs": [
        {
          "output_type": "display_data",
          "data": {
            "text/plain": [
              "<Figure size 640x480 with 1 Axes>"
            ],
            "image/png": "[encoded data removed]"
          },
          "metadata": {}
        }
      ]
    },
    {
      "cell_type": "markdown",
      "source": [
        "# Linear Regression and SGD"
      ],
      "metadata": {
        "id": "w0MHKupWKw-d"
      }
    },
    {
      "cell_type": "code",
      "source": [
        "!pip install git+https://github.com/pantelis-classes/PRML.git#egg=prml\n",
        "\n",
        "import seaborn as sns\n",
        "\n",
        "# Apply the default theme\n",
        "sns.set_theme()\n",
        "\n",
        "from scipy.stats import multivariate_normal\n",
        "import matplotlib.pyplot as plt\n",
        "%matplotlib inline\n",
        "\n",
        "from prml.preprocess import GaussianFeature, PolynomialFeature, SigmoidalFeature\n",
        "from prml.linear import (\n",
        "    BayesianRegression,\n",
        "    EmpiricalBayesRegression,\n",
        "    LinearRegression,\n",
        "    RidgeRegression\n",
        ")\n",
        "\n",
        "np.random.seed(1234)\n",
        "\n",
        "def create_toy_data(func, sample_size, std, domain=[0, 1]):\n",
        "    x = np.linspace(domain[0], domain[1], sample_size)\n",
        "    np.random.shuffle(x)\n",
        "    y = func(x) + np.random.normal(scale=std, size=x.shape)\n",
        "    return x, y\n",
        "\n",
        "def sinusoidal(x):\n",
        "    return np.sin(2 * np.pi * x)\n",
        "\n",
        "x_train, y_train = create_toy_data(sinusoidal, 10, 0.25)\n",
        "x_test = np.linspace(0, 1, 100)\n",
        "y_test = sinusoidal(x_test)\n",
        "\n",
        "#Hyperparameters\n",
        "eta = 0.1\n",
        "lambda_reg = 0.1\n",
        "epochs = 100\n",
        "m = 10\n",
        "\n",
        "losses = []\n",
        "\n",
        "w = PolynomialFeature(m)\n",
        "\n",
        "X_train = w.transform(x_train)\n",
        "X_test = w.transform(x_test)\n",
        "model = LinearRegression()\n",
        "model.fit(X_train, y_train)\n",
        "y_hat, y_std = model.predict(X_test, return_std=True)\n",
        "\n",
        "for epoch in range(epochs):\n",
        "  total_loss = 0\n",
        "  for i in range(m):\n",
        "    loss = (np.sum(y_hat[i] - y_test[i])**2)/(2*m) + lambda_reg*np.sum(model.w**2)/2\n",
        "    total_loss  += loss\n",
        "    gradient = np.sum(y_hat[i] - y_test[i])/m*X_test[i] + lambda_reg*model.w\n",
        "    model.w -= eta*gradient\n",
        "  losses.append(total_loss)\n",
        "\n",
        "print(\"The hyperparameters I used are: eta = 0.1, lambda = 0.1, epochs = 100, and m = 10\")\n",
        "print(model.w)\n",
        "\n",
        "plt.plot(range(epochs), losses, label='Loss')\n",
        "plt.xlabel('epochs')\n",
        "plt.ylabel('loss')\n",
        "plt.show()"
      ],
      "metadata": {
        "colab": {
          "base_uri": "https://localhost:8080/",
          "height": 648
        },
        "id": "R3f2lQ4BQHC8",
        "outputId": "743c52b6-766c-45c3-e4ff-501c18b29341"
      },
      "execution_count": 35,
      "outputs": [
        {
          "output_type": "stream",
          "name": "stdout",
          "text": [
            "Collecting prml\n",
            "  Cloning https://github.com/pantelis-classes/PRML.git to /tmp/pip-install-xbpdx14l/prml_b8a7bda123e74d7c907145da4d0a8637\n",
            "  Running command git clone --filter=blob:none --quiet https://github.com/pantelis-classes/PRML.git /tmp/pip-install-xbpdx14l/prml_b8a7bda123e74d7c907145da4d0a8637\n",
            "  Resolved https://github.com/pantelis-classes/PRML.git to commit 6c7ef85da419a644a4a4feb7ab538d2f4f15d46b\n",
            "  Preparing metadata (setup.py) ... \u001b[?25l\u001b[?25hdone\n",
            "Requirement already satisfied: numpy in /usr/local/lib/python3.11/dist-packages (from prml) (1.26.4)\n",
            "Requirement already satisfied: scipy in /usr/local/lib/python3.11/dist-packages (from prml) (1.13.1)\n",
            "The hyperparameters I used are: eta = 0.1, lambda = 0.1, epochs = 100, and m = 10\n",
            "[ 0.68027872  0.02392397  0.0558755  -0.49940048  2.18884587 -5.03933176\n",
            "  5.50266594 -0.38998262 -5.36147619  5.02845191 -1.4824659 ]\n"
          ]
        },
        {
          "output_type": "display_data",
          "data": {
            "text/plain": [
              "<Figure size 640x480 with 1 Axes>"
            ],
            "image/png": "[encoded data removed]"
          },
          "metadata": {}
        }
      ]
    }
  ]
}